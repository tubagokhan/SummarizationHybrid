{
  "nbformat": 4,
  "nbformat_minor": 0,
  "metadata": {
    "colab": {
      "private_outputs": true,
      "provenance": [],
      "authorship_tag": "ABX9TyNEhi+loC/yN9PnlKuLXIni",
      "include_colab_link": true
    },
    "kernelspec": {
      "name": "python3",
      "display_name": "Python 3"
    },
    "language_info": {
      "name": "python"
    }
  },
  "cells": [
    {
      "cell_type": "markdown",
      "metadata": {
        "id": "view-in-github",
        "colab_type": "text"
      },
      "source": [
        "<a href=\"https://colab.research.google.com/github/tubagokhan/SummarizationHybrid/blob/main/OptimumClusterNumber.ipynb\" target=\"_parent\"><img src=\"https://colab.research.google.com/assets/colab-badge.svg\" alt=\"Open In Colab\"/></a>"
      ]
    },
    {
      "cell_type": "code",
      "source": [
        "!pip install transformers\n",
        "!pip install datasets\n",
        "!pip install torch\n",
        "!pip install scikit-learn\n",
        "!pip install matplotlib\n",
        "!pip install sentence_transformers"
      ],
      "metadata": {
        "id": "ThO6v86y2WAs"
      },
      "execution_count": null,
      "outputs": []
    },
    {
      "cell_type": "code",
      "source": [
        "import numpy as np\n",
        "from sklearn.cluster import KMeans\n",
        "import matplotlib.pyplot as plt\n",
        "from sentence_transformers import SentenceTransformer\n",
        "from nltk import sent_tokenize\n",
        "\n",
        "import nltk\n",
        "nltk.download('punkt')\n",
        "\n",
        "import warnings\n",
        "import re"
      ],
      "metadata": {
        "id": "CZfgFyRF3kb8"
      },
      "execution_count": null,
      "outputs": []
    },
    {
      "cell_type": "code",
      "source": [
        "# Step 1\n",
        "from datasets import load_dataset\n",
        "\n",
        "#dataset = load_dataset('cnn_dailymail', '3.0.0')\n",
        "#corpus = dataset['train']['article'][50]"
      ],
      "metadata": {
        "id": "td265rWC3rCD"
      },
      "execution_count": null,
      "outputs": []
    },
    {
      "cell_type": "code",
      "source": [
        "dataset = load_dataset(\"ccdv/govreport-summarization\")\n",
        "corpus= dataset['train']['report'][100]"
      ],
      "metadata": {
        "id": "7fMddodqCGF9"
      },
      "execution_count": null,
      "outputs": []
    },
    {
      "cell_type": "code",
      "source": [
        "# Preprocessing method\n",
        "def preprocess_corpus(text):\n",
        "    # Remove special characters and extra whitespaces\n",
        "    text = re.sub(r\"[^a-zA-Z0-9\\s.]\", \"\", text)\n",
        "    text = re.sub(r\"\\s+\", \" \", text)\n",
        "    return text"
      ],
      "metadata": {
        "id": "EETObHuc9vy8"
      },
      "execution_count": null,
      "outputs": []
    },
    {
      "cell_type": "code",
      "source": [
        "# Step 2\n",
        "# Preprocess the corpus\n",
        "corpus = preprocess_corpus(corpus)\n",
        "sentences=sent_tokenize(corpus)\n",
        "model = SentenceTransformer('all-mpnet-base-v2')\n",
        "sentence_embeddings = model.encode(sentences)\n"
      ],
      "metadata": {
        "id": "OWAXL9U25MXE"
      },
      "execution_count": null,
      "outputs": []
    },
    {
      "cell_type": "code",
      "source": [
        "# Step 3\n",
        "#function calculates the optimal number of clusters using the elbow method. The function plots the elbow curve, which shows the inertia values for different cluster numbers. The user can visually inspect the plot to determine the elbow point, indicating the optimal number of clusters.\n",
        "def find_optimum_clusters(data, max_clusters):\n",
        "    inertias = []\n",
        "    for k in range(1, max_clusters + 1):\n",
        "        kmeans = KMeans(n_clusters=k, random_state=0).fit(data)\n",
        "        inertias.append(kmeans.inertia_)\n",
        "\n",
        "    # Plotting the elbow curve\n",
        "    plt.plot(range(1, max_clusters + 1), inertias)\n",
        "    plt.xlabel(\"Number of Clusters\")\n",
        "    plt.ylabel(\"Inertia\")\n",
        "    plt.title(\"Elbow Curve\")\n",
        "    plt.show()\n",
        "\n",
        "    # Calculate the optimal number of clusters using the elbow method\n",
        "    diff = np.diff(inertias)\n",
        "    acceleration = np.diff(diff)\n",
        "    opt_cluster_num = acceleration.argmin() + 2  # Adding 2 to get the index of the minimum acceleration\n",
        "    return opt_cluster_num\n",
        "\n",
        "with warnings.catch_warnings():\n",
        "    warnings.simplefilter(\"ignore\")\n",
        "    optimum_clusters = find_optimum_clusters(sentence_embeddings, int(len(sentences)/3))\n",
        "print(\"Optimum cluster number:\", optimum_clusters)"
      ],
      "metadata": {
        "id": "R5n2jcYW7Z_F"
      },
      "execution_count": null,
      "outputs": []
    },
    {
      "cell_type": "code",
      "execution_count": null,
      "metadata": {
        "id": "YHQjZaUt2Lax"
      },
      "outputs": [],
      "source": [
        "# Step 4\n",
        "kmeans = KMeans(n_clusters=optimum_clusters, random_state=0, n_init='auto').fit(sentence_embeddings)\n",
        "\n",
        "# Step 5\n",
        "chosen_sentences = []\n",
        "for cluster_id in range(optimum_clusters):\n",
        "    cluster_indices = np.where(kmeans.labels_ == cluster_id)[0]\n",
        "    chosen_sentence_index = np.random.choice(cluster_indices)\n",
        "    chosen_sentences.append(corpus.split(\". \")[chosen_sentence_index])\n",
        "\n",
        "# Step 6\n",
        "summary = \". \".join(chosen_sentences)\n",
        "print(\"Summary:\")\n",
        "print(summary)\n"
      ]
    },
    {
      "cell_type": "code",
      "source": [
        "print(len(sentences))"
      ],
      "metadata": {
        "id": "uK442Nsc9aN0"
      },
      "execution_count": null,
      "outputs": []
    },
    {
      "cell_type": "code",
      "source": [
        "print(len(chosen_sentences))"
      ],
      "metadata": {
        "id": "bB5unfOj9eeM"
      },
      "execution_count": null,
      "outputs": []
    }
  ]
}